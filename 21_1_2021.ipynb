{
  "nbformat": 4,
  "nbformat_minor": 0,
  "metadata": {
    "colab": {
      "name": "21-1-2021.ipynb",
      "provenance": [],
      "authorship_tag": "ABX9TyOC7DoJdtuj1E+gZYjqGDqs",
      "include_colab_link": true
    },
    "kernelspec": {
      "name": "python3",
      "display_name": "Python 3"
    }
  },
  "cells": [
    {
      "cell_type": "markdown",
      "metadata": {
        "id": "view-in-github",
        "colab_type": "text"
      },
      "source": [
        "<a href=\"https://colab.research.google.com/github/uddinmoiz44/test-repo/blob/master/21_1_2021.ipynb\" target=\"_parent\"><img src=\"https://colab.research.google.com/assets/colab-badge.svg\" alt=\"Open In Colab\"/></a>"
      ]
    },
    {
      "cell_type": "code",
      "metadata": {
        "id": "HcBSpDx-PaYM"
      },
      "source": [
        "def make_album():\r\n",
        " while(True):\r\n",
        "   artist_name=input(\"enter artist name or q for quit\")\r\n",
        "   if(artist_name!='q'):\r\n",
        "    album_name=input(\"enter album name\")\r\n",
        "    dic={'singer':artist_name,'album':album_name}\r\n",
        "   else:\r\n",
        "     return 'ok'\r\n",
        "   return dic\r\n"
      ],
      "execution_count": 40,
      "outputs": []
    },
    {
      "cell_type": "code",
      "metadata": {
        "colab": {
          "base_uri": "https://localhost:8080/",
          "height": 52
        },
        "id": "_4Csh1qFTwha",
        "outputId": "217d1e05-b7f0-446c-aa62-d43c1dd20b48"
      },
      "source": [
        "make_album()"
      ],
      "execution_count": 41,
      "outputs": [
        {
          "output_type": "stream",
          "text": [
            "enter artist name or q for quitq\n"
          ],
          "name": "stdout"
        },
        {
          "output_type": "execute_result",
          "data": {
            "application/vnd.google.colaboratory.intrinsic+json": {
              "type": "string"
            },
            "text/plain": [
              "'ok'"
            ]
          },
          "metadata": {
            "tags": []
          },
          "execution_count": 41
        }
      ]
    },
    {
      "cell_type": "code",
      "metadata": {
        "id": "GV_N5Nb1TVye"
      },
      "source": [
        ""
      ],
      "execution_count": null,
      "outputs": []
    },
    {
      "cell_type": "markdown",
      "metadata": {
        "id": "RvqUqWM2i4yx"
      },
      "source": [
        "salary calculator\r\n"
      ]
    },
    {
      "cell_type": "code",
      "metadata": {
        "id": "kvY0CsdGi70o"
      },
      "source": [
        "def salaryCalc(basic_salary):\r\n",
        " tot_deduction=tax_ded(basic_salary)\r\n",
        " commisions=commision(basic_salary)\r\n",
        " gross_salary=basic_salary-tot_deduction+commisions\r\n",
        " return gross_salary"
      ],
      "execution_count": 58,
      "outputs": []
    },
    {
      "cell_type": "code",
      "metadata": {
        "colab": {
          "base_uri": "https://localhost:8080/",
          "height": 163
        },
        "id": "WgcWi8xTrhFb",
        "outputId": "90169b1b-24d6-463a-ef2c-0954caa28354"
      },
      "source": [
        "  \r\n"
      ],
      "execution_count": 59,
      "outputs": [
        {
          "output_type": "error",
          "ename": "NameError",
          "evalue": "ignored",
          "traceback": [
            "\u001b[0;31m---------------------------------------------------------------------------\u001b[0m",
            "\u001b[0;31mNameError\u001b[0m                                 Traceback (most recent call last)",
            "\u001b[0;32m<ipython-input-59-da135543c8c9>\u001b[0m in \u001b[0;36m<module>\u001b[0;34m()\u001b[0m\n\u001b[0;32m----> 1\u001b[0;31m \u001b[0mcommission\u001b[0m\u001b[0;34m\u001b[0m\u001b[0;34m\u001b[0m\u001b[0m\n\u001b[0m",
            "\u001b[0;31mNameError\u001b[0m: name 'commission' is not defined"
          ]
        }
      ]
    },
    {
      "cell_type": "code",
      "metadata": {
        "id": "Cgjbh-JRnw1Z"
      },
      "source": [
        "def tax_ded(basic_salary):\r\n",
        " tax_ded=0\r\n",
        " if basic_salary<=30000:\r\n",
        "  tax_ded=0\r\n",
        " elif basic_salary >30000 and basic_salary<50000:\r\n",
        "  tax_ded=5\r\n",
        " elif basic_salary >50000 and basic_salary<100000:\r\n",
        "   tax_ded=10\r\n",
        " else:\r\n",
        "  tax_ded=15\r\n",
        " tot_ded=basic_salary *tax_ded/100\r\n",
        " return tot_ded"
      ],
      "execution_count": 55,
      "outputs": []
    },
    {
      "cell_type": "code",
      "metadata": {
        "id": "_HPqLhzTnMCr"
      },
      "source": [
        ""
      ],
      "execution_count": null,
      "outputs": []
    },
    {
      "cell_type": "code",
      "metadata": {
        "colab": {
          "base_uri": "https://localhost:8080/"
        },
        "id": "wOGRzqZ8i_uv",
        "outputId": "83ce5302-425c-448b-ed8e-7cd01ae1d14c"
      },
      "source": [
        "basic_salary=int(input(\"\\n Enter the basic salary of the employee\"))\r\n",
        "gross_salary=salaryCalc(basic_salary)\r\n",
        "print(f\"the Gross salary of the employee is {gross_salary}\")"
      ],
      "execution_count": 56,
      "outputs": [
        {
          "output_type": "stream",
          "text": [
            "\n",
            " Enter the basic salary of the employee60000\n",
            "the Gross salary of the employee is 54000.0\n"
          ],
          "name": "stdout"
        }
      ]
    }
  ]
}