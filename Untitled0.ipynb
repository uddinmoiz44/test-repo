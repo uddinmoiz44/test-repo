{
  "nbformat": 4,
  "nbformat_minor": 0,
  "metadata": {
    "colab": {
      "name": "Untitled0.ipynb",
      "provenance": [],
      "authorship_tag": "ABX9TyP1zkEVXTcC8SUfyqu/YASB",
      "include_colab_link": true
    },
    "kernelspec": {
      "name": "python3",
      "display_name": "Python 3"
    }
  },
  "cells": [
    {
      "cell_type": "markdown",
      "metadata": {
        "id": "view-in-github",
        "colab_type": "text"
      },
      "source": [
        "<a href=\"https://colab.research.google.com/github/uddinmoiz44/test-repo/blob/master/Untitled0.ipynb\" target=\"_parent\"><img src=\"https://colab.research.google.com/assets/colab-badge.svg\" alt=\"Open In Colab\"/></a>"
      ]
    },
    {
      "cell_type": "code",
      "metadata": {
        "id": "k2I-0FTSmyIx"
      },
      "source": [
        "dicofdic={'saylani':{'smit':['cs','ccna','cit'],\r\n",
        "                       'health':['opd','ot']\r\n",
        "                      }\r\n",
        "         }\r\n",
        "for pk,pv in dicofdic.items():\r\n",
        "     if(pk=='sylani'):\r\n",
        "      print('false')"
      ],
      "execution_count": null,
      "outputs": []
    },
    {
      "cell_type": "code",
      "metadata": {
        "id": "NaJ1QL65jZnX"
      },
      "source": [
        "def cell():\r\n",
        "  name=input(\"tell me your name \")\r\n",
        "  print(f\"this is new user {name}\")\r\n"
      ],
      "execution_count": 6,
      "outputs": []
    },
    {
      "cell_type": "code",
      "metadata": {
        "colab": {
          "base_uri": "https://localhost:8080/"
        },
        "id": "vXj8sWU1kcrp",
        "outputId": "4f83bb27-09e8-42aa-eba7-ab5d4b56c695"
      },
      "source": [
        "cell()"
      ],
      "execution_count": 7,
      "outputs": [
        {
          "output_type": "stream",
          "text": [
            "tell me your name moiz\n",
            "this is new user moiz\n"
          ],
          "name": "stdout"
        }
      ]
    },
    {
      "cell_type": "code",
      "metadata": {
        "id": "AJKkZIuqkvXv"
      },
      "source": [
        "def call():\r\n",
        "  \r\n",
        "  num=int(input(\"Give me a number\"))\r\n",
        "  while(num!=0):\r\n",
        "   if(num % 2==0):\r\n",
        "    print(f\"this is even number {num}\")\r\n",
        "   else:\r\n",
        "    print(f\"this is odd {num}\")"
      ],
      "execution_count": 34,
      "outputs": []
    },
    {
      "cell_type": "code",
      "metadata": {
        "id": "fsPYdaFEn3gv"
      },
      "source": [
        "call()"
      ],
      "execution_count": null,
      "outputs": []
    },
    {
      "cell_type": "code",
      "metadata": {
        "colab": {
          "base_uri": "https://localhost:8080/"
        },
        "id": "vwUNCW7Oxkd1",
        "outputId": "0e1d6f8b-a818-428e-8639-ee9e8f712efd"
      },
      "source": [
        "for value in range(1,5):\r\n",
        "  print(value)"
      ],
      "execution_count": null,
      "outputs": [
        {
          "output_type": "stream",
          "text": [
            "1\n",
            "2\n",
            "3\n",
            "4\n"
          ],
          "name": "stdout"
        }
      ]
    },
    {
      "cell_type": "code",
      "metadata": {
        "colab": {
          "base_uri": "https://localhost:8080/"
        },
        "id": "-oHNF-kYyUvK",
        "outputId": "f352036c-1aaf-4610-bb2e-c08540e891ee"
      },
      "source": [
        "abc=list(range(1,20,3))\r\n",
        "print(abc)"
      ],
      "execution_count": null,
      "outputs": [
        {
          "output_type": "stream",
          "text": [
            "[1, 4, 7, 10, 13, 16, 19]\n"
          ],
          "name": "stdout"
        }
      ]
    },
    {
      "cell_type": "code",
      "metadata": {
        "colab": {
          "base_uri": "https://localhost:8080/"
        },
        "id": "poi3QWfJzAcy",
        "outputId": "68767440-abdf-4f39-ebef-0af6ccca8f76"
      },
      "source": [
        "square=[]\r\n",
        "for value in range(1,10):\r\n",
        "  squares=value**2\r\n",
        "  square.append(squares)\r\n",
        "print(square)\r\n"
      ],
      "execution_count": null,
      "outputs": [
        {
          "output_type": "stream",
          "text": [
            "[1, 4, 9, 16, 25, 36, 49, 64, 81]\n"
          ],
          "name": "stdout"
        }
      ]
    },
    {
      "cell_type": "code",
      "metadata": {
        "colab": {
          "base_uri": "https://localhost:8080/"
        },
        "id": "_NyOwgTK353D",
        "outputId": "eb5450d0-b04b-4b44-b321-afb942ec7ad7"
      },
      "source": [
        "list_comprehension=[value**2 for value in range(1,12)]\r\n",
        "print(list_comprehension)"
      ],
      "execution_count": null,
      "outputs": [
        {
          "output_type": "stream",
          "text": [
            "[1, 4, 9, 16, 25, 36, 49, 64, 81, 100, 121]\n"
          ],
          "name": "stdout"
        }
      ]
    },
    {
      "cell_type": "code",
      "metadata": {
        "colab": {
          "base_uri": "https://localhost:8080/"
        },
        "id": "KBOgb00T5d_m",
        "outputId": "e0cf06b9-04d4-41f8-ac02-042cd2c7a131"
      },
      "source": [
        "slice_in_list=['ali','adnan','saim','farooq','shamir','arsalan']\r\n",
        "print(slice_in_list[-3:6])"
      ],
      "execution_count": null,
      "outputs": [
        {
          "output_type": "stream",
          "text": [
            "['farooq', 'shamir', 'arsalan']\n"
          ],
          "name": "stdout"
        }
      ]
    },
    {
      "cell_type": "code",
      "metadata": {
        "colab": {
          "base_uri": "https://localhost:8080/"
        },
        "id": "7u5TIYAxA1xA",
        "outputId": "bdad22f2-2ccd-4a31-e48b-64432fc3378e"
      },
      "source": [
        "pizza=['fajita','tandori','green tikka']\r\n",
        "friend_pizza=pizza[:]\r\n",
        "\r\n",
        "for value in pizza:\r\n",
        "  print(\"these are my pizza's flavour   \"+value)\r\n",
        "for value in friend_pizza:\r\n",
        "  print(\"my friend_list pizza\"+value)\r\n",
        "\r\n"
      ],
      "execution_count": null,
      "outputs": [
        {
          "output_type": "stream",
          "text": [
            "these are my pizza's flavour   fajita\n",
            "these are my pizza's flavour   tandori\n",
            "these are my pizza's flavour   green tikka\n",
            "my friend_list pizzafajita\n",
            "my friend_list pizzatandori\n",
            "my friend_list pizzagreen tikka\n"
          ],
          "name": "stdout"
        }
      ]
    },
    {
      "cell_type": "code",
      "metadata": {
        "id": "dc0ivXJCbMqX"
      },
      "source": [
        ""
      ],
      "execution_count": null,
      "outputs": []
    },
    {
      "cell_type": "markdown",
      "metadata": {
        "id": "hwIuoF43bVkW"
      },
      "source": [
        "** Tuple** didnot change/immutable ,but it can be changed by redefine tuple variable. **bold text** *italicized text*"
      ]
    },
    {
      "cell_type": "code",
      "metadata": {
        "colab": {
          "base_uri": "https://localhost:8080/"
        },
        "id": "MbEvd8LHbckm",
        "outputId": "c7b3ef50-00cb-43a9-adcc-434001e6f862"
      },
      "source": [
        "Tuples=('biryani','pilao','samosas','chicken sandwich','beef burger')\r\n",
        "for value in Tuples:\r\n",
        "  print(value)\r\n",
        "Tuples=('alo-bukhara','salad','nihari','biryani','pilao','samosas','chicken sandwich','beef burger')\r\n",
        "for value in Tuples:\r\n",
        "  print(value)\r\n"
      ],
      "execution_count": null,
      "outputs": [
        {
          "output_type": "stream",
          "text": [
            "biryani\n",
            "pilao\n",
            "samosas\n",
            "chicken sandwich\n",
            "beef burger\n",
            "alo-bukhara\n",
            "salad\n",
            "nihari\n",
            "biryani\n",
            "pilao\n",
            "samosas\n",
            "chicken sandwich\n",
            "beef burger\n"
          ],
          "name": "stdout"
        }
      ]
    },
    {
      "cell_type": "code",
      "metadata": {
        "id": "I9tQXsvUiL2w"
      },
      "source": [
        ""
      ],
      "execution_count": null,
      "outputs": []
    },
    {
      "cell_type": "code",
      "metadata": {
        "colab": {
          "base_uri": "https://localhost:8080/"
        },
        "id": "PaugiDyiiMSZ",
        "outputId": "39ee3dce-3549-4b4b-e87b-b241a83664c0"
      },
      "source": [
        "requested_toppings = ['gh']\r\n",
        "if requested_toppings:\r\n",
        " for requested_topping in requested_toppings:\r\n",
        "  print(\"Adding \" + requested_topping + \".\")\r\n",
        "  print(\"\\nFinished making your pizza!\")\r\n",
        "else:\r\n",
        " print(\"Are you sure you want a plain pizza?\")\r\n"
      ],
      "execution_count": null,
      "outputs": [
        {
          "output_type": "stream",
          "text": [
            "Adding gh.\n",
            "\n",
            "Finished making your pizza!\n"
          ],
          "name": "stdout"
        }
      ]
    },
    {
      "cell_type": "code",
      "metadata": {
        "colab": {
          "base_uri": "https://localhost:8080/"
        },
        "id": "zOlG0C_Llx9P",
        "outputId": "fc4680dd-d0f7-4cb7-f3fc-1464e1952c83"
      },
      "source": [
        " available_toppings = ['mushrooms', 'olives', 'green peppers',\r\n",
        " 'pepperoni', 'pineapple', 'extra cheese']\r\n",
        " requested_toppings = ['mushrooms', 'french fries', 'extra cheese']\r\n",
        " for requested_topping in requested_toppings:\r\n",
        "  if requested_topping in available_toppings:\r\n",
        "   print(\"Adding \" + requested_topping + \".\")\r\n",
        "  else:\r\n",
        "   print(\"Sorry, we don't have \" + requested_topping + \".\")\r\n",
        "\r\n",
        "print(\"\\nFinished making your pizza!\")"
      ],
      "execution_count": null,
      "outputs": [
        {
          "output_type": "stream",
          "text": [
            "Adding mushrooms.\n",
            "Sorry, we don't have french fries.\n",
            "Adding extra cheese.\n",
            "\n",
            "Finished making your pizza!\n"
          ],
          "name": "stdout"
        }
      ]
    },
    {
      "cell_type": "code",
      "metadata": {
        "colab": {
          "base_uri": "https://localhost:8080/"
        },
        "id": "22xa37sanM-4",
        "outputId": "13aff7e6-4c57-41d9-b0e9-6e684547c035"
      },
      "source": [
        "dic={\r\n",
        "    'username':'ali',\r\n",
        "     'password':1234,\r\n",
        "     'email':'inboxmoizuddin@gmail.com',\r\n",
        "     \r\n",
        "}\r\n",
        "for pk,pv in dic.items():\r\n",
        "  print('\\nkey  '+ str(pk))\r\n",
        "  print ('value  '+ str(pv))\r\n",
        "\r\n",
        "  "
      ],
      "execution_count": null,
      "outputs": [
        {
          "output_type": "stream",
          "text": [
            "\n",
            "key  username\n",
            "value  ali\n",
            "\n",
            "key  password\n",
            "value  1234\n",
            "\n",
            "key  email\n",
            "value  inboxmoizuddin@gmail.com\n"
          ],
          "name": "stdout"
        }
      ]
    },
    {
      "cell_type": "code",
      "metadata": {
        "colab": {
          "base_uri": "https://localhost:8080/"
        },
        "id": "bDkZAzDn3SNx",
        "outputId": "c0520fe2-b3ae-4f89-8688-39af35907fdf"
      },
      "source": [
        "favorite_languages = {\r\n",
        " 'jen': 'python',\r\n",
        " 'sarah': 'c',\r\n",
        " 'edward': 'ruby',\r\n",
        " 'phil': 'python',\r\n",
        " }\r\n",
        "for name in sorted(favorite_languages):\r\n",
        " print(name.title() + \", thank you for taking the poll.\")"
      ],
      "execution_count": null,
      "outputs": [
        {
          "output_type": "stream",
          "text": [
            "Edward, thank you for taking the poll.\n",
            "Jen, thank you for taking the poll.\n",
            "Phil, thank you for taking the poll.\n",
            "Sarah, thank you for taking the poll.\n"
          ],
          "name": "stdout"
        }
      ]
    }
  ]
}