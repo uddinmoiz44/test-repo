{
  "nbformat": 4,
  "nbformat_minor": 0,
  "metadata": {
    "colab": {
      "name": "Untitled0.ipynb",
      "provenance": [],
      "authorship_tag": "ABX9TyMo+oReuKB5eQN2ebptVKub",
      "include_colab_link": true
    },
    "kernelspec": {
      "name": "python3",
      "display_name": "Python 3"
    }
  },
  "cells": [
    {
      "cell_type": "markdown",
      "metadata": {
        "id": "view-in-github",
        "colab_type": "text"
      },
      "source": [
        "<a href=\"https://colab.research.google.com/github/uddinmoiz44/test-repo/blob/master/Untitled0.ipynb\" target=\"_parent\"><img src=\"https://colab.research.google.com/assets/colab-badge.svg\" alt=\"Open In Colab\"/></a>"
      ]
    },
    {
      "cell_type": "code",
      "metadata": {
        "colab": {
          "base_uri": "https://localhost:8080/",
          "height": 129
        },
        "id": "k2I-0FTSmyIx",
        "outputId": "4714a23a-3e11-42e7-9513-10d4db30d168"
      },
      "source": [
        "# dicofdic={'saylani':{'smit':['cs','ccna','cit'],\r\n",
        "#                       'health':['opd','ot']\r\n",
        "#                      }\r\n",
        "#           }\r\n",
        "# for pk,pv in dicofdic:\r\n",
        "#         if(pk=='saylani')\r\n",
        "#                print true"
      ],
      "execution_count": 16,
      "outputs": [
        {
          "output_type": "error",
          "ename": "SyntaxError",
          "evalue": "ignored",
          "traceback": [
            "\u001b[0;36m  File \u001b[0;32m\"<ipython-input-16-60852c789fea>\"\u001b[0;36m, line \u001b[0;32m6\u001b[0m\n\u001b[0;31m    if(pk=='saylani')\u001b[0m\n\u001b[0m                     ^\u001b[0m\n\u001b[0;31mSyntaxError\u001b[0m\u001b[0;31m:\u001b[0m invalid syntax\n"
          ]
        }
      ]
    },
    {
      "cell_type": "code",
      "metadata": {
        "colab": {
          "base_uri": "https://localhost:8080/"
        },
        "id": "22xa37sanM-4",
        "outputId": "13aff7e6-4c57-41d9-b0e9-6e684547c035"
      },
      "source": [
        "dic={\r\n",
        "    'username':'ali',\r\n",
        "     'password':1234,\r\n",
        "     'email':'inboxmoizuddin@gmail.com',\r\n",
        "     \r\n",
        "}\r\n",
        "for pk,pv in dic.items():\r\n",
        "  print('\\nkey  '+ str(pk))\r\n",
        "  print ('value  '+ str(pv))"
      ],
      "execution_count": 24,
      "outputs": [
        {
          "output_type": "stream",
          "text": [
            "\n",
            "key  username\n",
            "value  ali\n",
            "\n",
            "key  password\n",
            "value  1234\n",
            "\n",
            "key  email\n",
            "value  inboxmoizuddin@gmail.com\n"
          ],
          "name": "stdout"
        }
      ]
    }
  ]
}