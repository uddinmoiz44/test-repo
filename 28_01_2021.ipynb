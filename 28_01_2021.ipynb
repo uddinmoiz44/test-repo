{
  "nbformat": 4,
  "nbformat_minor": 0,
  "metadata": {
    "colab": {
      "name": "28-01-2021.ipynb",
      "provenance": [],
      "authorship_tag": "ABX9TyOyZBfngcZ0qpVAL51atfdw",
      "include_colab_link": true
    },
    "kernelspec": {
      "name": "python3",
      "display_name": "Python 3"
    }
  },
  "cells": [
    {
      "cell_type": "markdown",
      "metadata": {
        "id": "view-in-github",
        "colab_type": "text"
      },
      "source": [
        "<a href=\"https://colab.research.google.com/github/uddinmoiz44/test-repo/blob/master/28_01_2021.ipynb\" target=\"_parent\"><img src=\"https://colab.research.google.com/assets/colab-badge.svg\" alt=\"Open In Colab\"/></a>"
      ]
    },
    {
      "cell_type": "code",
      "metadata": {
        "colab": {
          "base_uri": "https://localhost:8080/"
        },
        "id": "r_vsT8B-T8r1",
        "outputId": "45d253c7-ea51-4733-fb1b-053cf88a13f5"
      },
      "source": [
        "try:\r\n",
        "  a=int(input(\"input  a num\"))\r\n",
        "  b=int(input(\"input a second number\"))\r\n",
        "  d=[]\r\n",
        "  c=a/b\r\n",
        "  print(d[2])\r\n",
        "  print(c)\r\n",
        "except ZeroDivisionError:\r\n",
        "  print('except is caught by zero div err')\r\n",
        "except IndexError:\r\n",
        "  print('Handled error')\r\n",
        "except ValueError:\r\n",
        "  print('val4 error')\r\n",
        "else:\r\n",
        "  print(\"nahi i\")\r\n",
        "print(\"heelo world\")"
      ],
      "execution_count": null,
      "outputs": [
        {
          "output_type": "stream",
          "text": [
            "input  a num2\n",
            "input a second number2\n",
            "Handled error\n",
            "heelo world\n"
          ],
          "name": "stdout"
        }
      ]
    },
    {
      "cell_type": "markdown",
      "metadata": {
        "id": "fSNI8M3gmiOI"
      },
      "source": [
        "central tendency,statistics parhne he ek topic\r\n",
        "0"
      ]
    },
    {
      "cell_type": "code",
      "metadata": {
        "id": "jQ-xxeIDgPKe"
      },
      "source": [
        ""
      ],
      "execution_count": null,
      "outputs": []
    },
    {
      "cell_type": "code",
      "metadata": {
        "id": "swxTgukOiwUj"
      },
      "source": [
        ""
      ],
      "execution_count": null,
      "outputs": []
    }
  ]
}