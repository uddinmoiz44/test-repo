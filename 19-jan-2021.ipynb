{
  "nbformat": 4,
  "nbformat_minor": 0,
  "metadata": {
    "colab": {
      "name": "Untitled1.ipynb",
      "provenance": [],
      "authorship_tag": "ABX9TyO4p8bfHIUsup63zJF1Ectr",
      "include_colab_link": true
    },
    "kernelspec": {
      "name": "python3",
      "display_name": "Python 3"
    }
  },
  "cells": [
    {
      "cell_type": "markdown",
      "metadata": {
        "id": "view-in-github",
        "colab_type": "text"
      },
      "source": [
        "<a href=\"https://colab.research.google.com/github/uddinmoiz44/test-repo/blob/master/19-jan-2021.ipynb\" target=\"_parent\"><img src=\"https://colab.research.google.com/assets/colab-badge.svg\" alt=\"Open In Colab\"/></a>"
      ]
    },
    {
      "cell_type": "code",
      "metadata": {
        "id": "-KbM3MwD6xEP"
      },
      "source": [
        ""
      ],
      "execution_count": null,
      "outputs": []
    },
    {
      "cell_type": "markdown",
      "metadata": {
        "id": "5fe7SuuM6x7I"
      },
      "source": [
        "19-01-2021\r\n",
        "bold text"
      ]
    },
    {
      "cell_type": "code",
      "metadata": {
        "colab": {
          "base_uri": "https://localhost:8080/"
        },
        "id": "0Crt2V0462BH",
        "outputId": "fe4f4778-2300-4b17-cb3a-d5ee6f852f6a"
      },
      "source": [
        "responses={}\r\n",
        "polling_active=True\r\n",
        "while(polling_active):\r\n",
        " name=input(\"what is your name\")\r\n",
        " response=input(\"which mountain would you like to climb?\")\r\n",
        "\r\n",
        " responses[name]=response\r\n",
        "\r\n",
        " repeat=input(\"would you like to another perswon response (yes/no)\")\r\n",
        " if(repeat=='no'):\r\n",
        "   polling_active=False\r\n",
        "for name,response in responses.items():\r\n",
        "  \r\n",
        "  print(name+ \" would like to climb \"+response+ \".\")\r\n",
        "  \r\n"
      ],
      "execution_count": 4,
      "outputs": [
        {
          "output_type": "stream",
          "text": [
            "what is your namemoiz\n",
            "which mountain would you like to climb?k2\n",
            "would you like to another perswon response (yes/no)yes\n",
            "what is your nameali\n",
            "which mountain would you like to climb?amazon\n",
            "would you like to another perswon response (yes/no)no\n",
            "moiz would like to climb k2.\n",
            "ali would like to climb amazon.\n"
          ],
          "name": "stdout"
        }
      ]
    },
    {
      "cell_type": "code",
      "metadata": {
        "id": "H9SWZwnbAUuq"
      },
      "source": [
        ""
      ],
      "execution_count": null,
      "outputs": []
    },
    {
      "cell_type": "markdown",
      "metadata": {
        "id": "WiOkBXoDAWlQ"
      },
      "source": [
        "functions"
      ]
    },
    {
      "cell_type": "code",
      "metadata": {
        "id": "DiVgrr1xAgHI"
      },
      "source": [
        "def adding(num1,num2):\r\n",
        " '''this function takes two arg it return sum to to interger (DocString)'''\r\n",
        " \r\n",
        " return num1+num2\r\n"
      ],
      "execution_count": 11,
      "outputs": []
    },
    {
      "cell_type": "code",
      "metadata": {
        "colab": {
          "base_uri": "https://localhost:8080/"
        },
        "id": "sd85HUUPAuzx",
        "outputId": "607588e9-d80e-493e-b7bb-53621155b2bc"
      },
      "source": [
        "a=int(input())\r\n",
        "b=int(input())\r\n",
        "adding(a,b)"
      ],
      "execution_count": 15,
      "outputs": [
        {
          "output_type": "stream",
          "text": [
            "52\n",
            "52\n"
          ],
          "name": "stdout"
        },
        {
          "output_type": "execute_result",
          "data": {
            "text/plain": [
              "104"
            ]
          },
          "metadata": {
            "tags": []
          },
          "execution_count": 15
        }
      ]
    },
    {
      "cell_type": "code",
      "metadata": {
        "id": "BNYHtl_WJhCd"
      },
      "source": [
        "def abc(x,y,z=0): # func default value comes in last parameter\r\n",
        "  print(x,y,z)\r\n"
      ],
      "execution_count": 23,
      "outputs": []
    },
    {
      "cell_type": "code",
      "metadata": {
        "colab": {
          "base_uri": "https://localhost:8080/"
        },
        "id": "mEL3URd8Kmaj",
        "outputId": "89e70414-4371-47fb-a268-b71d366124b2"
      },
      "source": [
        "abc(23,y=23,z=8) #all positional arg comes first in arg(function calling) and then keyword arg"
      ],
      "execution_count": 24,
      "outputs": [
        {
          "output_type": "stream",
          "text": [
            "23 23 8\n"
          ],
          "name": "stdout"
        }
      ]
    },
    {
      "cell_type": "code",
      "metadata": {
        "colab": {
          "base_uri": "https://localhost:8080/"
        },
        "id": "3kRJR2NSCVYR",
        "outputId": "019bfade-4c61-443b-8e18-dfd39b473485"
      },
      "source": [
        "def make_shirt(size=48,sentence=\"i love python\"):\r\n",
        "  print(size,sentence)\r\n",
        "make_shirt(size=38,sentence=\"Hello World\")"
      ],
      "execution_count": 36,
      "outputs": [
        {
          "output_type": "stream",
          "text": [
            "38 Hello World\n"
          ],
          "name": "stdout"
        }
      ]
    },
    {
      "cell_type": "code",
      "metadata": {
        "colab": {
          "base_uri": "https://localhost:8080/"
        },
        "id": "407BJZmQNBD6",
        "outputId": "56a1e2d4-f837-4dc7-93b6-1962d7ad4942"
      },
      "source": [
        "make_shirt(size=38,sentence=\"Hello World\")"
      ],
      "execution_count": 34,
      "outputs": [
        {
          "output_type": "stream",
          "text": [
            "38 Hello World\n"
          ],
          "name": "stdout"
        }
      ]
    },
    {
      "cell_type": "code",
      "metadata": {
        "id": "vIpByOUyO3sV"
      },
      "source": [
        "def build_person(fn,ln,age=''):\r\n",
        "  person={'first':fn,'last':ln}\r\n",
        "  if age:\r\n",
        "    person['age']=age\r\n",
        "  return person\r\n",
        "\r\n"
      ],
      "execution_count": 59,
      "outputs": []
    },
    {
      "cell_type": "code",
      "metadata": {
        "colab": {
          "base_uri": "https://localhost:8080/"
        },
        "id": "JCMK6LBnPXvU",
        "outputId": "a987dcf9-98cb-4656-a62a-dc00d01b515a"
      },
      "source": [
        "abcd=build_person('moiz','uddin')\r\n",
        "print(abcd)"
      ],
      "execution_count": 60,
      "outputs": [
        {
          "output_type": "stream",
          "text": [
            "{'first': 'moiz', 'last': 'uddin'}\n"
          ],
          "name": "stdout"
        }
      ]
    },
    {
      "cell_type": "code",
      "metadata": {
        "id": "E_uyy3Q5S4ZG"
      },
      "source": [
        "def max_value():\r\n",
        "\r\n",
        "  num=[]\r\n",
        "  for a in range(5):\r\n",
        "   value=input(\"enter a  value\")\r\n",
        "   num.append(value)\r\n",
        "\r\n",
        "  return max(num)\r\n",
        "\r\n",
        "\r\n",
        "   "
      ],
      "execution_count": 88,
      "outputs": []
    },
    {
      "cell_type": "code",
      "metadata": {
        "colab": {
          "base_uri": "https://localhost:8080/",
          "height": 120
        },
        "id": "wFDH_gEZV7f_",
        "outputId": "883f5584-e2cc-4d6d-eb45-3150ee94e616"
      },
      "source": [
        "max_value(3)"
      ],
      "execution_count": 90,
      "outputs": [
        {
          "output_type": "stream",
          "text": [
            "enter a  value5\n",
            "enter a  value2\n",
            "enter a  value545\n",
            "enter a  value2125\n",
            "enter a  value15\n"
          ],
          "name": "stdout"
        },
        {
          "output_type": "execute_result",
          "data": {
            "application/vnd.google.colaboratory.intrinsic+json": {
              "type": "string"
            },
            "text/plain": [
              "'545'"
            ]
          },
          "metadata": {
            "tags": []
          },
          "execution_count": 90
        }
      ]
    },
    {
      "cell_type": "code",
      "metadata": {
        "colab": {
          "base_uri": "https://localhost:8080/"
        },
        "id": "MJdxZ0EcQcUm",
        "outputId": "ba123cc6-b9d5-4fd4-f8a7-8547ac8e8c5a"
      },
      "source": [
        "max_value()"
      ],
      "execution_count": 75,
      "outputs": [
        {
          "output_type": "stream",
          "text": [
            "enter a  value5\n",
            "enter a  value4584\n",
            "enter a  value54\n",
            "enter a  value514\n",
            "enter a  value145\n"
          ],
          "name": "stdout"
        }
      ]
    },
    {
      "cell_type": "code",
      "metadata": {
        "id": "xNuNAgnLX91e"
      },
      "source": [
        "def max_finder():\r\n",
        "  nums=input(\"Enter comma seperated numbers\").split(',')\r\n",
        "  return max([int(i) for i in nums])\r\n",
        "  \r\n"
      ],
      "execution_count": 97,
      "outputs": []
    },
    {
      "cell_type": "code",
      "metadata": {
        "colab": {
          "base_uri": "https://localhost:8080/"
        },
        "id": "kQGRb-9tY_SX",
        "outputId": "de33d028-62ae-42e5-bdda-18d0beebc3c5"
      },
      "source": [
        "max_finder()\r\n"
      ],
      "execution_count": 98,
      "outputs": [
        {
          "output_type": "stream",
          "text": [
            "Enter comma seperated numbers1,2,554,6,4,6,6,45\n"
          ],
          "name": "stdout"
        },
        {
          "output_type": "execute_result",
          "data": {
            "text/plain": [
              "554"
            ]
          },
          "metadata": {
            "tags": []
          },
          "execution_count": 98
        }
      ]
    }
  ]
}